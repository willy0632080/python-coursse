{
 "cells": [
  {
   "cell_type": "code",
   "execution_count": 4,
   "metadata": {},
   "outputs": [
    {
     "name": "stdout",
     "output_type": "stream",
     "text": [
      "[21.13885585942661, 26.44628099173554, 18.02595737862522]\n"
     ]
    }
   ],
   "source": [
    "names=['Richard,','Tom','Mary']\n",
    "heights=[1.74,1.65,1.58]\n",
    "weights=[64,72,45]\n",
    "bmis=list()\n",
    "for i in range(len(names)):\n",
    "    bmi=weights[i]/heights[i]**2\n",
    "    bmis.append(bmi)\n",
    "    #print(names[i],\"的BMI是\",round(bmi,2))\n",
    "print(bmis)\n",
    "    "
   ]
  }
 ],
 "metadata": {
  "kernelspec": {
   "display_name": "Python 3",
   "language": "python",
   "name": "python3"
  },
  "language_info": {
   "codemirror_mode": {
    "name": "ipython",
    "version": 3
   },
   "file_extension": ".py",
   "mimetype": "text/x-python",
   "name": "python",
   "nbconvert_exporter": "python",
   "pygments_lexer": "ipython3",
   "version": "3.7.4"
  }
 },
 "nbformat": 4,
 "nbformat_minor": 2
}
